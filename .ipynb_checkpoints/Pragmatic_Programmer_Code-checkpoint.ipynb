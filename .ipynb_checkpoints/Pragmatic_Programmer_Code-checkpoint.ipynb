{
 "cells": [
  {
   "cell_type": "markdown",
   "metadata": {},
   "source": [
    "# DRY Examples"
   ]
  },
  {
   "cell_type": "markdown",
   "metadata": {},
   "source": [
    "### Example of the simplest class"
   ]
  },
  {
   "cell_type": "code",
   "execution_count": 1,
   "metadata": {},
   "outputs": [
    {
     "name": "stdout",
     "output_type": "stream",
     "text": [
      "['__class__', '__delattr__', '__dict__', '__dir__', '__doc__', '__eq__', '__format__', '__ge__', '__getattribute__', '__gt__', '__hash__', '__init__', '__init_subclass__', '__le__', '__lt__', '__module__', '__ne__', '__new__', '__reduce__', '__reduce_ex__', '__repr__', '__setattr__', '__sizeof__', '__str__', '__subclasshook__', '__weakref__', 'balance', 'credits', 'debits', 'fees']\n"
     ]
    }
   ],
   "source": [
    "\n",
    "class account:\n",
    "    pass \n",
    "\n",
    "account.debits = 50\n",
    "account.credits = 100\n",
    "account.fees = -2\n",
    "account.balance = 175\n",
    "    \n",
    "print(dir(account))\n",
    "    \n"
   ]
  },
  {
   "cell_type": "markdown",
   "metadata": {},
   "source": [
    "### Another simple class"
   ]
  },
  {
   "cell_type": "code",
   "execution_count": 2,
   "metadata": {},
   "outputs": [],
   "source": [
    "class person:\n",
    "    def __init__(self):\n",
    "        self.age = 8\n",
    "        self.height = 4\n",
    "        \n",
    "    def get_age(self):\n",
    "        return self.age\n",
    "\n",
    "    def get_height(self):\n",
    "        return self.height"
   ]
  },
  {
   "cell_type": "code",
   "execution_count": 3,
   "metadata": {},
   "outputs": [
    {
     "name": "stdout",
     "output_type": "stream",
     "text": [
      "8\n",
      "4\n"
     ]
    }
   ],
   "source": [
    "Karla = person()\n",
    "\n",
    "print(Karla.get_age())\n",
    "print(Karla.get_height())"
   ]
  },
  {
   "cell_type": "markdown",
   "metadata": {},
   "source": [
    "### DUPLICATION IN CODE \n",
    "\n",
    "It may be trivial, but code duplication is oh, so common. Here’s\n",
    "an example:"
   ]
  },
  {
   "cell_type": "code",
   "execution_count": 4,
   "metadata": {},
   "outputs": [],
   "source": [
    "def print_balance(account):\n",
    "    print(\"Debits: \\n\\t\", account.debits)\n",
    "    print(\"Credits:\\n\\t\", account.credits)\n",
    "    if account.fees < 0:\n",
    "        print(\"Fees: \\n\\t\", \"-\" + str(account.fees))  \n",
    "    else:\n",
    "        print(\"Fees: \\n\\t\", account.fees)\n",
    "    \n",
    "    print(\" ———-\\n\")\n",
    "    if account.balance < 0:\n",
    "        print(\"Balance: \\n\\t\", \"-\" + str(account.balance))\n",
    "    else:\n",
    "        print(\"Balance: \\n\\t\", account.balance)\n",
    " "
   ]
  },
  {
   "cell_type": "code",
   "execution_count": 5,
   "metadata": {},
   "outputs": [
    {
     "name": "stdout",
     "output_type": "stream",
     "text": [
      "Debits: \n",
      "\t 50\n",
      "Credits:\n",
      "\t 100\n",
      "Fees: \n",
      "\t --2\n",
      " ———-\n",
      "\n",
      "Balance: \n",
      "\t 175\n"
     ]
    }
   ],
   "source": [
    "print_balance(account)"
   ]
  },
  {
   "cell_type": "markdown",
   "metadata": {},
   "source": [
    "For now ignore the implication that we’re committing the\n",
    "newbie mistake of storing currencies in floats. Instead see if you\n",
    "can spot duplications in this code. (We can see at least three\n",
    "things, but you might see more.)\n",
    "What did you find? Here’s our list.\n",
    "First, there’s clearly a copy-and-paste duplication of handling\n",
    "the negative numbers. We can fix that by adding another\n",
    "function:\n"
   ]
  },
  {
   "cell_type": "code",
   "execution_count": 6,
   "metadata": {},
   "outputs": [],
   "source": [
    "def format_amount(value):\n",
    "    if value < 0:\n",
    "        return \"-\" + str(value)\n",
    "    else:\n",
    "        return str(value)\n",
    "    \n",
    "def print_balance(account):\n",
    "    print(\"Debits: \\n\\t\", account.debits)\n",
    "    print(\"Credits: \\n\\t\", account.credits)\n",
    "    print(\"Fees: \\n\\t\", format_amount(account.fees))\n",
    "    print(\" ———\\n\")\n",
    "    print(\"Balance: \\n\\t\", format_amount(account.balance))"
   ]
  },
  {
   "cell_type": "code",
   "execution_count": 7,
   "metadata": {},
   "outputs": [
    {
     "name": "stdout",
     "output_type": "stream",
     "text": [
      "Debits: \n",
      "\t 50\n",
      "Credits: \n",
      "\t 100\n",
      "Fees: \n",
      "\t --2\n",
      " ———\n",
      "\n",
      "Balance: \n",
      "\t 175\n"
     ]
    }
   ],
   "source": [
    "print_balance(account)"
   ]
  },
  {
   "cell_type": "markdown",
   "metadata": {},
   "source": [
    "Another duplication is the repetition of the field width in all the\n",
    "printf calls. We could fix this by introducing a constant and\n",
    "passing it to each call, but why not just use the existing\n",
    "function?"
   ]
  },
  {
   "cell_type": "code",
   "execution_count": 8,
   "metadata": {},
   "outputs": [],
   "source": [
    "def format_amount(value):\n",
    "    if value < 0:\n",
    "        return \"\\n\\t\" + \"-\" + str(value)\n",
    "    else:\n",
    "        return \"\\n\\t\" + str(value)\n",
    "\n",
    "def print_balance(account):\n",
    "    print(\"Debits: \", format_amount(account.debits))\n",
    "    print(\"Credits: \", format_amount(account.credits))\n",
    "    print(\"Fees: \", format_amount(account.fees))\n",
    "    print(\" ———-\\n\")\n",
    "    print(\"Balance: \", format_amount(account.balance))"
   ]
  },
  {
   "cell_type": "code",
   "execution_count": 9,
   "metadata": {},
   "outputs": [
    {
     "name": "stdout",
     "output_type": "stream",
     "text": [
      "Debits:  \n",
      "\t50\n",
      "Credits:  \n",
      "\t100\n",
      "Fees:  \n",
      "\t--2\n",
      " ———-\n",
      "\n",
      "Balance:  \n",
      "\t175\n"
     ]
    }
   ],
   "source": [
    "print_balance(account)"
   ]
  },
  {
   "cell_type": "markdown",
   "metadata": {},
   "source": [
    "Anything more? Well, what if the client asks for an extra space\n",
    "between the labels and the numbers? We’d have to change five\n",
    "lines. Let’s remove that duplication:"
   ]
  },
  {
   "cell_type": "code",
   "execution_count": 10,
   "metadata": {},
   "outputs": [],
   "source": [
    "def format_amount(value):\n",
    "    if value < 0:\n",
    "        return \"\\n\\t\" + \"-\" + str(value)\n",
    "    else:\n",
    "        return \"\\n\\t\" + str(value)\n",
    "\n",
    "def print_line(label, value):\n",
    "    print(\"\\n\", label, value)\n",
    "\n",
    "def report_line(label, amount):\n",
    "    print_line(label + \":\", format_amount(amount))\n",
    "\n",
    "def print_balance(account):\n",
    "    report_line(\"Debits\", account.debits)\n",
    "    report_line(\"Credits\", account.credits)\n",
    "    report_line(\"Fees\", account.fees)\n",
    "    print_line(\"\", \"———-\")\n",
    "    report_line(\"Balance\", account.balance)\n",
    "\n"
   ]
  },
  {
   "cell_type": "code",
   "execution_count": 11,
   "metadata": {},
   "outputs": [
    {
     "name": "stdout",
     "output_type": "stream",
     "text": [
      "\n",
      " Debits: \n",
      "\t50\n",
      "\n",
      " Credits: \n",
      "\t100\n",
      "\n",
      " Fees: \n",
      "\t--2\n",
      "\n",
      "  ———-\n",
      "\n",
      " Balance: \n",
      "\t175\n"
     ]
    }
   ],
   "source": [
    "print_balance(account)"
   ]
  }
 ],
 "metadata": {
  "kernelspec": {
   "display_name": "Python 3",
   "language": "python",
   "name": "python3"
  },
  "language_info": {
   "codemirror_mode": {
    "name": "ipython",
    "version": 3
   },
   "file_extension": ".py",
   "mimetype": "text/x-python",
   "name": "python",
   "nbconvert_exporter": "python",
   "pygments_lexer": "ipython3",
   "version": "3.7.7"
  }
 },
 "nbformat": 4,
 "nbformat_minor": 4
}
