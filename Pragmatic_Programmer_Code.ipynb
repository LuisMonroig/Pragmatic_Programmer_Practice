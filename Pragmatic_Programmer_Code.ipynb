{
 "cells": [
  {
   "cell_type": "markdown",
   "metadata": {},
   "source": [
    "# DRY Examples"
   ]
  },
  {
   "cell_type": "markdown",
   "metadata": {},
   "source": [
    "### Example of the simplest class"
   ]
  },
  {
   "cell_type": "code",
   "execution_count": 1,
   "metadata": {},
   "outputs": [
    {
     "name": "stdout",
     "output_type": "stream",
     "text": [
      "['__class__', '__delattr__', '__dict__', '__dir__', '__doc__', '__eq__', '__format__', '__ge__', '__getattribute__', '__gt__', '__hash__', '__init__', '__init_subclass__', '__le__', '__lt__', '__module__', '__ne__', '__new__', '__reduce__', '__reduce_ex__', '__repr__', '__setattr__', '__sizeof__', '__str__', '__subclasshook__', '__weakref__', 'balance', 'credits', 'debits', 'fees']\n"
     ]
    }
   ],
   "source": [
    "\n",
    "class account:\n",
    "    pass \n",
    "\n",
    "account.debits = 50\n",
    "account.credits = 100\n",
    "account.fees = -2\n",
    "account.balance = 175\n",
    "    \n",
    "print(dir(account))\n",
    "    \n"
   ]
  },
  {
   "cell_type": "markdown",
   "metadata": {},
   "source": [
    "### Another simple class"
   ]
  },
  {
   "cell_type": "code",
   "execution_count": 2,
   "metadata": {},
   "outputs": [],
   "source": [
    "class person:\n",
    "    def __init__(self):\n",
    "        self.age = 8\n",
    "        self.height = 4\n",
    "        \n",
    "    def get_age(self):\n",
    "        return self.age\n",
    "\n",
    "    def get_height(self):\n",
    "        return self.height"
   ]
  },
  {
   "cell_type": "code",
   "execution_count": 3,
   "metadata": {},
   "outputs": [
    {
     "name": "stdout",
     "output_type": "stream",
     "text": [
      "8\n",
      "4\n"
     ]
    }
   ],
   "source": [
    "Karla = person()\n",
    "\n",
    "print(Karla.get_age())\n",
    "print(Karla.get_height())"
   ]
  },
  {
   "cell_type": "markdown",
   "metadata": {},
   "source": [
    "### DUPLICATION IN CODE \n",
    "\n",
    "It may be trivial, but code duplication is oh, so common. Here’s\n",
    "an example:"
   ]
  },
  {
   "cell_type": "code",
   "execution_count": 4,
   "metadata": {},
   "outputs": [],
   "source": [
    "def print_balance(account):\n",
    "    print(\"Debits: \\n\\t\", account.debits)\n",
    "    print(\"Credits:\\n\\t\", account.credits)\n",
    "    if account.fees < 0:\n",
    "        print(\"Fees: \\n\\t\", \"-\" + str(account.fees))  \n",
    "    else:\n",
    "        print(\"Fees: \\n\\t\", account.fees)\n",
    "    \n",
    "    print(\" ———-\\n\")\n",
    "    if account.balance < 0:\n",
    "        print(\"Balance: \\n\\t\", \"-\" + str(account.balance))\n",
    "    else:\n",
    "        print(\"Balance: \\n\\t\", account.balance)\n",
    " "
   ]
  },
  {
   "cell_type": "code",
   "execution_count": 5,
   "metadata": {},
   "outputs": [
    {
     "name": "stdout",
     "output_type": "stream",
     "text": [
      "Debits: \n",
      "\t 50\n",
      "Credits:\n",
      "\t 100\n",
      "Fees: \n",
      "\t --2\n",
      " ———-\n",
      "\n",
      "Balance: \n",
      "\t 175\n"
     ]
    }
   ],
   "source": [
    "print_balance(account)"
   ]
  },
  {
   "cell_type": "markdown",
   "metadata": {},
   "source": [
    "For now ignore the implication that we’re committing the\n",
    "newbie mistake of storing currencies in floats. Instead see if you\n",
    "can spot duplications in this code. (We can see at least three\n",
    "things, but you might see more.)\n",
    "What did you find? Here’s our list.\n",
    "First, there’s clearly a copy-and-paste duplication of handling\n",
    "the negative numbers. We can fix that by adding another\n",
    "function:\n"
   ]
  },
  {
   "cell_type": "code",
   "execution_count": 6,
   "metadata": {},
   "outputs": [],
   "source": [
    "def format_amount(value):\n",
    "    if value < 0:\n",
    "        return \"-\" + str(value)\n",
    "    else:\n",
    "        return str(value)\n",
    "    \n",
    "def print_balance(account):\n",
    "    print(\"Debits: \\n\\t\", account.debits)\n",
    "    print(\"Credits: \\n\\t\", account.credits)\n",
    "    print(\"Fees: \\n\\t\", format_amount(account.fees))\n",
    "    print(\" ———\\n\")\n",
    "    print(\"Balance: \\n\\t\", format_amount(account.balance))"
   ]
  },
  {
   "cell_type": "code",
   "execution_count": 7,
   "metadata": {},
   "outputs": [
    {
     "name": "stdout",
     "output_type": "stream",
     "text": [
      "Debits: \n",
      "\t 50\n",
      "Credits: \n",
      "\t 100\n",
      "Fees: \n",
      "\t --2\n",
      " ———\n",
      "\n",
      "Balance: \n",
      "\t 175\n"
     ]
    }
   ],
   "source": [
    "print_balance(account)"
   ]
  },
  {
   "cell_type": "markdown",
   "metadata": {},
   "source": [
    "Another duplication is the repetition of the field width in all the\n",
    "printf calls. We could fix this by introducing a constant and\n",
    "passing it to each call, but why not just use the existing\n",
    "function?"
   ]
  },
  {
   "cell_type": "code",
   "execution_count": 8,
   "metadata": {},
   "outputs": [],
   "source": [
    "def format_amount(value):\n",
    "    if value < 0:\n",
    "        return \"\\n\\t\" + \"-\" + str(value)\n",
    "    else:\n",
    "        return \"\\n\\t\" + str(value)\n",
    "\n",
    "def print_balance(account):\n",
    "    print(\"Debits: \", format_amount(account.debits))\n",
    "    print(\"Credits: \", format_amount(account.credits))\n",
    "    print(\"Fees: \", format_amount(account.fees))\n",
    "    print(\" ———-\\n\")\n",
    "    print(\"Balance: \", format_amount(account.balance))"
   ]
  },
  {
   "cell_type": "code",
   "execution_count": 9,
   "metadata": {},
   "outputs": [
    {
     "name": "stdout",
     "output_type": "stream",
     "text": [
      "Debits:  \n",
      "\t50\n",
      "Credits:  \n",
      "\t100\n",
      "Fees:  \n",
      "\t--2\n",
      " ———-\n",
      "\n",
      "Balance:  \n",
      "\t175\n"
     ]
    }
   ],
   "source": [
    "print_balance(account)"
   ]
  },
  {
   "cell_type": "markdown",
   "metadata": {},
   "source": [
    "Anything more? Well, what if the client asks for an extra space\n",
    "between the labels and the numbers? We’d have to change five\n",
    "lines. Let’s remove that duplication:"
   ]
  },
  {
   "cell_type": "code",
   "execution_count": 10,
   "metadata": {},
   "outputs": [],
   "source": [
    "def format_amount(value):\n",
    "    if value < 0:\n",
    "        return \"\\n\\t\" + \"-\" + str(value)\n",
    "    else:\n",
    "        return \"\\n\\t\" + str(value)\n",
    "\n",
    "def print_line(label, value):\n",
    "    print(\"\\n\", label, value)\n",
    "\n",
    "def report_line(label, amount):\n",
    "    print_line(label + \":\", format_amount(amount))\n",
    "\n",
    "def print_balance(account):\n",
    "    report_line(\"Debits\", account.debits)\n",
    "    report_line(\"Credits\", account.credits)\n",
    "    report_line(\"Fees\", account.fees)\n",
    "    print_line(\"\", \"———-\")\n",
    "    report_line(\"Balance\", account.balance)\n",
    "\n"
   ]
  },
  {
   "cell_type": "code",
   "execution_count": 11,
   "metadata": {},
   "outputs": [
    {
     "name": "stdout",
     "output_type": "stream",
     "text": [
      "\n",
      " Debits: \n",
      "\t50\n",
      "\n",
      " Credits: \n",
      "\t100\n",
      "\n",
      " Fees: \n",
      "\t--2\n",
      "\n",
      "  ———-\n",
      "\n",
      " Balance: \n",
      "\t175\n"
     ]
    }
   ],
   "source": [
    "print_balance(account)"
   ]
  },
  {
   "cell_type": "markdown",
   "metadata": {},
   "source": [
    "# Extracting string in a source text file\n",
    "\n",
    "    The main goal is start by implement a code that extracts string \n",
    "    (i.e. words in enclosed by \" \" ) from a textfile. Eventually we will\n",
    "    design code that can do the same extraction of string but with other\n",
    "    types of files, not just text. \n",
    "\n",
    "    A mathematician in the math division has designed this finite state \n",
    "    machine (FSM) that has the logic necessary for this implementation. \n",
    "    This FSM diagram is presented as follows:\n",
    "\n",
    "\n",
    "<img src = \"event_string_fsm.png\"\n",
    "        alt = \"FSM String Extraction\" width = 450 />\n",
    "        \n",
    "                                        \n",
    "                                        Reference: Pragmatic Programmer 2nd edition"
   ]
  },
  {
   "cell_type": "markdown",
   "metadata": {},
   "source": [
    "    First let us design the finite state machine table:\n",
    "\n",
    "\n",
    "$$\n",
    "\\begin{array}{|l|c|c|c|}\n",
    "\\hline\n",
    " \\ & \\textbf{q_mark} & \\textbf{back_slash } & \\textbf{neither q_mark nor back_slash } \\\\ \n",
    "\\hline\n",
    "\\textbf{looking_str} & \\text{in_str} & \\text{looking_str} & \\text{looking_str} \\\\\n",
    "\\hline\n",
    "\\textbf{in_str} & \\text{looking_str} & \\text{skip_q_mark}& \\text{in_str} \\\\\n",
    "\\hline\n",
    "\\textbf{skip_q_mark} & \\text{in_str} & \\text{in_str} & \\text{in_str} \\\\\n",
    "\\hline\n",
    "\\end{array}\n",
    "$$"
   ]
  },
  {
   "cell_type": "markdown",
   "metadata": {},
   "source": [
    "### First the procedural implementation"
   ]
  },
  {
   "cell_type": "code",
   "execution_count": 12,
   "metadata": {},
   "outputs": [
    {
     "name": "stdout",
     "output_type": "stream",
     "text": [
      "while True:\n",
      "    instruction = input(\"Please enter the assembly instruction: \")\n",
      "\n",
      "    mnemonic = instruction.split(\" \")[0]\n",
      "    print(\"Mnemonic:\",mnemonic)\n",
      "\n",
      "    computers_ISA = {\"LOD\":\"00010000\" , \"STO\":\"00010001\",  \"ADD\":\"00100000\",\n",
      "                     \"SUB\":\"00100001\",  \"JMP\":\"00110000\",  \"HLT\": \"11111111\"}           \n",
      "\n",
      "    instructions_list = instruction.split(\" \",1)\n",
      "    print(instructions_list)\n",
      "    registers = instructions_list[1].replace(\" \",\"\")\n",
      "    print(registers)\n",
      "    register_list = registers.split(\",\")\n",
      "\n",
      "    num_reg1 = register_list[0][1:]  # i values of register Ri \n",
      "    num_reg2 = register_list[1][1:]  # will be used in elifs below\n",
      "    num_reg3 = register_list[2][1:]\n",
      "\n",
      "    if mnemonic not in computers_ISA:\n",
      "        print(\"There was a problem with the instruction mnemonic. Please consult the ISA documentation.\\n\\n\")\n",
      "        \n",
      "    else:\n",
      "        if len(register_list) != 3:\n",
      "            print(\"Few or to many registers! Please, try again.\\n\\n\")\n",
      "\n",
      "        elif not (register_list[0][0] == register_list[1][0] == register_list[2][0] == \"R\"): \n",
      "            print(\"Invalid register name! Please, provide a register with the form Ri where I is a natural number.\\n\\n\")\n",
      "\n",
      "        elif not (num_reg1.isnumeric() and num_reg2.isnumeric() and num_reg3.isnumeric()):\n",
      "            print(\"Invalid register! Reister name is not accompanied only by an integer.\\n\\n\")\n",
      "\n",
      "        elif not(0 < int(num_reg1) < 256 and 0 < int(num_reg2) < 256 and 0 < int(num_reg3) < 256):\n",
      "            print(\"Invalid register number! There most be integer from 0 to 255 besides the register name.\\n\\n\")\n",
      "        else: \n",
      "            num_reg_binary  = [bin(int(num_reg1)).replace('0b',\"\"), bin(int(num_reg2)).replace('0b',\"\"), bin(int(num_reg3)).replace('0b',\"\")]\n",
      "            zero_byte = \"00000000\"\n",
      "            for index in range(3):\n",
      "                num_reg_binary[index] = zero_byte[0:8-len(num_reg_binary[index])] + num_reg_binary[index] \n",
      "                print(num_reg_binary[index])\n",
      "                \n",
      "            machine_code = computers_ISA[mnemonic] + num_reg_binary[0] + num_reg_binary[1] + num_reg_binary[2]\n",
      "            print(\"The translation of the assembly instruction into machine code is:\", machine_code,)\n",
      "            break\n",
      "        \n",
      "Please enter the assembly instruction: \n",
      " \n",
      "Mnemonic:\n",
      "LOD\n",
      "00010000\n",
      "STO\n",
      "00010001\n",
      "ADD\n",
      "00100000\n",
      "SUB\n",
      "00100001\n",
      "JMP\n",
      "00110000\n",
      "HLT\n",
      "11111111\n",
      " \n",
      " \n",
      "\n",
      ",\n",
      "There was a problem with the instruction mnemonic. Please consult the ISA documentation.\n",
      "Few or to many registers! Please, try again.\n",
      "R\n",
      "Invalid register name! Please, provide a register with the form Ri where I is a natural number.\n",
      "Invalid register! Reister name is not accompanied only by an integer.\n",
      "Invalid register number! There most be integer from 0 to 255 besides the register name.\n",
      "\n",
      "\n",
      "\n",
      "00000000\n",
      "The translation of the assembly instruction into machine code is:\n",
      "\n",
      " ['Please enter the assembly instruction: ', ' ', 'Mnemonic:', 'LOD', '00010000', 'STO', '00010001', 'ADD', '00100000', 'SUB', '00100001', 'JMP', '00110000', 'HLT', '11111111', ' ', ' ', '', ',', 'There was a problem with the instruction mnemonic. Please consult the ISA documentation.', 'Few or to many registers! Please, try again.', 'R', 'Invalid register name! Please, provide a register with the form Ri where I is a natural number.', 'Invalid register! Reister name is not accompanied only by an integer.', 'Invalid register number! There most be integer from 0 to 255 besides the register name.', '', '', '', '00000000', 'The translation of the assembly instruction into machine code is:']\n"
     ]
    }
   ],
   "source": [
    "def file_location_to_str(location):\n",
    "    original_file = open(location,\"r\") \n",
    "    contents_list = original_file.read() #file to str\n",
    "    original_file.close()\n",
    "    return contents_list\n",
    "    \n",
    "    \n",
    "def new_state(current_state = \"looking_str\", event = \"neither\"):\n",
    "    machine_states = {\"looking_str\":[\"in_str\", \"looking_str\", \"looking_str\"],\n",
    "                      \"in_str\": [\"looking_str\", \"skip_q_mark\", \"in_str\"],\n",
    "                      \"skip_q_mark\": [\"in_str\", \"in_str\", \"in_str\"]}\n",
    "    \n",
    "    activation_inputs = {\"q_mark\": 0, \"back_slash\": 1, \"neither\": 2}\n",
    "    return machine_states[current_state][activation_inputs[event]]\n",
    "\n",
    "if __name__ == \"__main__\":\n",
    "    \n",
    "    file_contents=file_location_to_str(\"/Users/luise/Desktop/Jupyter_Notebooks/extract_str_example.txt\")\n",
    "    print(file_contents)\n",
    "    \n",
    "    #starting state and event \n",
    "    current_state = \"looking_str\"\n",
    "    event = \"neither\"\n",
    "    \n",
    "    new_str = \"\"\n",
    "    file_strs = []\n",
    "    transition = False\n",
    "    \n",
    "    for letter in file_contents:\n",
    "        if letter == '\"':\n",
    "            event = \"q_mark\"\n",
    "        elif letter == \"\\\\\":\n",
    "            event = \"back_slash\"   \n",
    "        else:\n",
    "            event = \"neither\"\n",
    "\n",
    "        prev_state = current_state\n",
    "        transition = False\n",
    "        \n",
    "        current_state = new_state(current_state,event)\n",
    "            \n",
    "        if (prev_state,current_state) == ('looking_str', 'looking_str'):\n",
    "            pass\n",
    "        elif (prev_state,current_state) == ('looking_str', 'in_str'):\n",
    "            pass\n",
    "        elif (prev_state,current_state) == ('looking_str', 'skip_qmark'):\n",
    "            pass\n",
    "        elif (prev_state,current_state) == ('in_str', 'looking_str'):\n",
    "            file_strs.append(new_str) #saving in list instead of output result as in diagram\n",
    "            print(new_str)\n",
    "            new_str=\"\"\n",
    "        elif (prev_state,current_state) == ('in_str', 'in_str'):\n",
    "            new_str += letter\n",
    "        elif (prev_state,current_state) == ('in_str', 'skip_qmark'):\n",
    "            pass\n",
    "        elif (prev_state,current_state) == ('skip_qmark', 'looking_str'):\n",
    "            pass\n",
    "        elif (prev_state,current_state) == ('skip_qmark', 'in_str'):\n",
    "            pass\n",
    "        elif (prev_state,current_state) == ('skip_qmark', 'skip_qmark'):\n",
    "            pass\n",
    "       \n",
    "    print(\"\\n\",file_strs) \n"
   ]
  },
  {
   "cell_type": "markdown",
   "metadata": {},
   "source": [
    "# Data Pipeline with exceptions: Extracting from a file with Regular Expressions\n",
    "\n",
    "\n",
    "\n",
    "$$\\begin{array}{|l|c|c|c|}\n",
    "\\hline\n",
    "\\text{Functions in the pipeline} & \\text{Exception}//\n",
    "\\hline\n",
    "//\n",
    "//\n",
    "//\n",
    "//\n",
    "\\end{array}\n",
    "\n",
    "\n"
   ]
  },
  {
   "cell_type": "code",
   "execution_count": null,
   "metadata": {},
   "outputs": [],
   "source": []
  }
 ],
 "metadata": {
  "kernelspec": {
   "display_name": "Python 3",
   "language": "python",
   "name": "python3"
  },
  "language_info": {
   "codemirror_mode": {
    "name": "ipython",
    "version": 3
   },
   "file_extension": ".py",
   "mimetype": "text/x-python",
   "name": "python",
   "nbconvert_exporter": "python",
   "pygments_lexer": "ipython3",
   "version": "3.7.7"
  }
 },
 "nbformat": 4,
 "nbformat_minor": 4
}
